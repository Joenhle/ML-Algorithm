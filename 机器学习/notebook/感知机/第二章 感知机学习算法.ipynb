{
 "cells": [
  {
   "cell_type": "markdown",
   "metadata": {},
   "source": [
    "感知机算法用于计算得到划分可二分数据集的超平面S。\n",
    "\n",
    "我们定义优化函数为损失函数：\n",
    "L=误分类点到超平面S的距离和\n",
    "\n",
    "\\\\(d = \\frac{1}{{\\left\\| w \\right\\|}}|w \\bullet {x_i} + b|\\\\)\n",
    "\n",
    "\\\\(L =  - \\sum\\limits_N {{y_i}} (w \\bullet {x_i} + b)\\\\)\n",
    "\n",
    "采用随机梯度下降算法\n",
    "\n",
    "\\\\(\\frac{{dL}}{{dw}} =  - \\sum\\limits_N {{y_i}} {x_i}\\\\)\n",
    "\n",
    "故对于每一个误分类点\n",
    "\n",
    "\\\\(w = w + \\eta {y_i}{x_i}\\\\)\n"
   ]
  },
  {
   "cell_type": "markdown",
   "metadata": {},
   "source": [
    "## 算法流程：  \n",
    "输入：w, b；  \n",
    "训练：f(x)=sign(wx+b)\n",
    "1. 选取初值w0, b0\n",
    "2. 随机选取数据(xi, yi)\n",
    "3. 如果为误分类点，则更新"
   ]
  },
  {
   "cell_type": "code",
   "execution_count": 1,
   "metadata": {},
   "outputs": [],
   "source": [
    "import numpy as np\n",
    "import matplotlib.pyplot as plt\n",
    "\n",
    "np.random.seed(1)"
   ]
  },
  {
   "cell_type": "code",
   "execution_count": 2,
   "metadata": {},
   "outputs": [],
   "source": [
    "def sign(x):\n",
    "    if x > 0:\n",
    "        return 1;\n",
    "    return -1"
   ]
  },
  {
   "cell_type": "code",
   "execution_count": 3,
   "metadata": {},
   "outputs": [],
   "source": [
    "def svg(x, y, w, b, learning_rate):\n",
    "    i = np.random.randint(0, x.shape[0])\n",
    "#     print(\"svg\")\n",
    "#     print(np.dot(w, x[i]).shape)\n",
    "    if y[i] * (np.dot(w, x[i]) + b) <= 0:\n",
    "        w = w + learning_rate * x[i].T * y[i]\n",
    "        b = b + learning_rate * y[i]\n",
    "    params = {'w':w, 'b':b}\n",
    "    return params"
   ]
  },
  {
   "cell_type": "markdown",
   "metadata": {},
   "source": [
    "## 预测：  \n",
    "输入：x\n",
    "输出：y=sign(wx+b)"
   ]
  },
  {
   "cell_type": "code",
   "execution_count": 4,
   "metadata": {},
   "outputs": [],
   "source": [
    "def predict(x, w, b):\n",
    "    return sign(np.dot(w, x) + b)"
   ]
  },
  {
   "cell_type": "markdown",
   "metadata": {},
   "source": [
    "## 小数据训练"
   ]
  },
  {
   "cell_type": "code",
   "execution_count": 5,
   "metadata": {},
   "outputs": [
    {
     "name": "stdout",
     "output_type": "stream",
     "text": [
      "[[-0.3 -0.1]]\n",
      "0.1\n"
     ]
    }
   ],
   "source": [
    "dim = 2 #属性数量\n",
    "dataSize = 10 #数据集大小\n",
    "learning_rate = 0.1 #学习率\n",
    "ITERATE = 1000 #迭代次数\n",
    "\n",
    "x_train = np.array([[-1, 1], [-2, 0], [-1, 0], [-0.5, 0.5], [0, 0.5],[1, 3], [2, 3], [1, 1], [1, -0.5], [1, 0]])\n",
    "x_train = x_train.reshape(10, dim, 1)\n",
    "y_train = np.array([1, 1, 1, 1, 1, -1, -1, -1, -1, -1])\n",
    "# print(x_train.shape)\n",
    "# print(x_train[0].shape)\n",
    "\n",
    "w = np.zeros((1, dim))\n",
    "b = 0\n",
    "\n",
    "assert(x_train.shape == (dataSize, dim, 1))\n",
    "assert(x_train[0].shape == (dim, 1))\n",
    "assert(w.shape == (1, dim))\n",
    "\n",
    "for x in range(ITERATE):\n",
    "    params = svg(x_train, y_train, w, b, learning_rate)\n",
    "    w = params['w']\n",
    "    b = params['b']\n",
    "\n",
    "print(w)\n",
    "print(b)"
   ]
  },
  {
   "cell_type": "code",
   "execution_count": 6,
   "metadata": {},
   "outputs": [
    {
     "data": {
      "text/plain": [
       "array([[[-1. ],\n",
       "        [ 1. ]],\n",
       "\n",
       "       [[-2. ],\n",
       "        [ 0. ]],\n",
       "\n",
       "       [[-1. ],\n",
       "        [ 0. ]],\n",
       "\n",
       "       [[-0.5],\n",
       "        [ 0.5]],\n",
       "\n",
       "       [[ 0. ],\n",
       "        [ 0.5]],\n",
       "\n",
       "       [[ 1. ],\n",
       "        [ 3. ]],\n",
       "\n",
       "       [[ 2. ],\n",
       "        [ 3. ]],\n",
       "\n",
       "       [[ 1. ],\n",
       "        [ 1. ]],\n",
       "\n",
       "       [[ 1. ],\n",
       "        [-0.5]],\n",
       "\n",
       "       [[ 1. ],\n",
       "        [ 0. ]]])"
      ]
     },
     "execution_count": 6,
     "metadata": {},
     "output_type": "execute_result"
    }
   ],
   "source": [
    "x_train"
   ]
  },
  {
   "cell_type": "code",
   "execution_count": 7,
   "metadata": {},
   "outputs": [
    {
     "data": {
      "text/plain": [
       "array([[[-1. , -2. , -1. , -0.5,  0. ,  1. ,  2. ,  1. ,  1. ,  1. ],\n",
       "        [ 1. ,  0. ,  0. ,  0.5,  0.5,  3. ,  3. ,  1. , -0.5,  0. ]]])"
      ]
     },
     "execution_count": 7,
     "metadata": {},
     "output_type": "execute_result"
    }
   ],
   "source": [
    "x_train.T"
   ]
  },
  {
   "cell_type": "markdown",
   "metadata": {},
   "source": [
    "## 训练情况"
   ]
  },
  {
   "cell_type": "code",
   "execution_count": 8,
   "metadata": {},
   "outputs": [
    {
     "data": {
      "image/png": "[encoded data removed]",
      "text/plain": [
       "<Figure size 432x288 with 1 Axes>"
      ]
     },
     "metadata": {
      "needs_background": "light"
     },
     "output_type": "display_data"
    }
   ],
   "source": [
    "# print(x_train.T.shape)\n",
    "plt.plot(x_train.T[0][0], x_train.T[0][1], 'ro')\n",
    "y_hp = np.zeros(dataSize)\n",
    "for i in range(x_train.shape[0]):\n",
    "    y_hp[i] = (x_train.T[0][0][i]*w[0][0]+b)/w[0][1]*-1\n",
    "\n",
    "plt.plot(x_train.T[0][0], y_hp)\n",
    "plt.show()"
   ]
  },
  {
   "cell_type": "markdown",
   "metadata": {},
   "source": [
    "## 预测"
   ]
  },
  {
   "cell_type": "code",
   "execution_count": 9,
   "metadata": {},
   "outputs": [
    {
     "name": "stdout",
     "output_type": "stream",
     "text": [
      "-1\n",
      "(2, 1)\n",
      "(1, 2)\n"
     ]
    }
   ],
   "source": [
    "x_predict = np.array([[1],[3]])\n",
    "print(predict(x_predict, w, b))\n",
    "print(x_predict.shape)\n",
    "print(w.shape)"
   ]
  },
  {
   "cell_type": "code",
   "execution_count": 10,
   "metadata": {},
   "outputs": [
    {
     "data": {
      "text/plain": [
       "(2, 1)"
      ]
     },
     "execution_count": 10,
     "metadata": {},
     "output_type": "execute_result"
    }
   ],
   "source": [
    "temp = np.array([[1],[3]])\n",
    "temp.shape"
   ]
  },
  {
   "cell_type": "markdown",
   "metadata": {},
   "source": [
    "## 数据生成器"
   ]
  },
  {
   "cell_type": "code",
   "execution_count": 11,
   "metadata": {},
   "outputs": [],
   "source": [
    "def getData(rg, dim, size):\n",
    "#     w = np.random.rand(1, dim)\n",
    "#     b = np.random.randint(-rg/2, rg/2)\n",
    "    w = np.array([1, 1])\n",
    "    b = 2.5\n",
    "    x = []\n",
    "    y = []\n",
    "    for i in range(size):\n",
    "        x_i = np.random.rand(dim, 1) * rg - rg/2\n",
    "        y_i = -1\n",
    "        if np.dot(w, x_i) + b > 0:\n",
    "            y_i = 1\n",
    "        x.append(x_i)\n",
    "        y.append(y_i)\n",
    "    x = np.array(x)\n",
    "    y = np.array(y)\n",
    "#     print(\"getData\")\n",
    "#     print(x)\n",
    "    data = {\"x\":x, \"y\":y}\n",
    "    return data"
   ]
  },
  {
   "cell_type": "markdown",
   "metadata": {},
   "source": [
    "## 大数据测试"
   ]
  },
  {
   "cell_type": "code",
   "execution_count": 12,
   "metadata": {},
   "outputs": [
    {
     "name": "stdout",
     "output_type": "stream",
     "text": [
      "[[0.45173588 0.37103924]]\n",
      "1.0000000000000002\n"
     ]
    }
   ],
   "source": [
    "rangeOfNumber = 10 #随机数的范围\n",
    "dim = 2 #属性数量\n",
    "dataSize = 1000 #数据集大小\n",
    "testSize = 2000 #测试集大小\n",
    "learning_rate = 0.05 #学习率\n",
    "ITERATE = 1000 #迭代次数\n",
    "\n",
    "data_train = getData(rangeOfNumber, dim, dataSize)\n",
    "x_train = data_train[\"x\"]\n",
    "y_train = data_train[\"y\"]\n",
    "# print(x_train.shape)\n",
    "# print(x_train[0].shape)\n",
    "\n",
    "w = np.zeros((1, dim))\n",
    "b = 0\n",
    "\n",
    "assert(x_train.shape == (dataSize, dim, 1))\n",
    "assert(x_train[0].shape == (dim, 1))\n",
    "assert(w.shape == (1, dim))\n",
    "\n",
    "for x in range(ITERATE):\n",
    "    params = svg(x_train, y_train, w, b, learning_rate)\n",
    "    w = params['w']\n",
    "    b = params['b']\n",
    "\n",
    "print(w)\n",
    "print(b)"
   ]
  },
  {
   "cell_type": "code",
   "execution_count": 13,
   "metadata": {},
   "outputs": [
    {
     "data": {
      "image/png": "[encoded data removed]",
      "text/plain": [
       "<Figure size 432x288 with 1 Axes>"
      ]
     },
     "metadata": {
      "needs_background": "light"
     },
     "output_type": "display_data"
    }
   ],
   "source": [
    "# print(x_train.T.shape)\n",
    "plt.plot(x_train.T[0][0], x_train.T[0][1], 'ro', alpha = 0.5)\n",
    "y_hp = np.zeros(dataSize)\n",
    "for i in range(x_train.shape[0]):\n",
    "    y_hp[i] = (x_train.T[0][0][i]*w[0][0]+b)/w[0][1]*-1\n",
    "\n",
    "plt.plot(x_train.T[0][0], y_hp)\n",
    "plt.show()"
   ]
  },
  {
   "cell_type": "markdown",
   "metadata": {},
   "source": [
    "## 预测"
   ]
  },
  {
   "cell_type": "code",
   "execution_count": 14,
   "metadata": {},
   "outputs": [
    {
     "name": "stdout",
     "output_type": "stream",
     "text": [
      "Accuracy:97\n"
     ]
    }
   ],
   "source": [
    "data_test = getData(rangeOfNumber, dim, testSize)\n",
    "x_test = data_test[\"x\"]\n",
    "y_test = data_test[\"y\"]\n",
    "y_predict = []\n",
    "for i in range(testSize):\n",
    "    y_predict.append(predict(x_test[i], w, b))\n",
    "cnt = 0\n",
    "for i in range(testSize):\n",
    "    if y_test[i] == y_predict[i]:\n",
    "        cnt = cnt + 1\n",
    "print(\"Accuracy:%d\"  % (cnt / testSize * 100))"
   ]
  },
  {
   "cell_type": "code",
   "execution_count": 15,
   "metadata": {},
   "outputs": [
    {
     "data": {
      "image/png": "[encoded data removed]",
      "text/plain": [
       "<Figure size 432x288 with 1 Axes>"
      ]
     },
     "metadata": {
      "needs_background": "light"
     },
     "output_type": "display_data"
    }
   ],
   "source": [
    "tem = [x_test[i] for i in range(testSize) if y_predict[i] != y_test[i]]\n",
    "tem = np.array(tem)\n",
    "# print(tem.shape)\n",
    "\n",
    "assert(tem.shape[0] != 0)\n",
    "\n",
    "plt.plot(tem.T[0][0], tem.T[0][1], 'bo', alpha = 0.5)\n",
    "\n",
    "y_hp = np.zeros(dataSize)\n",
    "for i in range(x_train.shape[0]):\n",
    "    y_hp[i] = (x_train.T[0][0][i]*w[0][0]+b)/w[0][1]*-1\n",
    "\n",
    "plt.plot(x_train.T[0][0], y_hp)\n",
    "plt.show()"
   ]
  },
  {
   "cell_type": "markdown",
   "metadata": {
    "collapsed": true
   },
   "source": [
    "在下面这种情况下，准确率可以达到100%：  \n",
    "learning_rate = 0.01  \n",
    "ITERATE = 1000000"
   ]
  },
  {
   "cell_type": "code",
   "execution_count": null,
   "metadata": {},
   "outputs": [],
   "source": []
  }
 ],
 "metadata": {
  "kernelspec": {
   "display_name": "Python 3",
   "language": "python",
   "name": "python3"
  },
  "language_info": {
   "codemirror_mode": {
    "name": "ipython",
    "version": 3
   },
   "file_extension": ".py",
   "mimetype": "text/x-python",
   "name": "python",
   "nbconvert_exporter": "python",
   "pygments_lexer": "ipython3",
   "version": "3.8.2"
  }
 },
 "nbformat": 4,
 "nbformat_minor": 2
}
