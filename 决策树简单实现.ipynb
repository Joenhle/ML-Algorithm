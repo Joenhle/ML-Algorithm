{
 "cells": [
  {
   "cell_type": "code",
   "execution_count": 1,
   "metadata": {},
   "outputs": [],
   "source": [
    "from math import log\n",
    "import numpy as np\n",
    "\"\"\"\n",
    "函数说明：创建测试数据集\n",
    "Parameters：无\n",
    "Returns：\n",
    "    dataSet：数据集\n",
    "    labels：分类属性\n",
    "Modify：\n",
    "    2020-10-14\n",
    "\"\"\"\n",
    "\n",
    "def creatDataSet():\n",
    "    # 数据集\n",
    "    dataSet=[[0, 0, 0, 0, 'no'],\n",
    "            [0, 0, 0, 1, 'no'],\n",
    "            [0, 1, 0, 1, 'yes'],\n",
    "            [0, 1, 1, 0, 'yes'],\n",
    "            [0, 0, 0, 0, 'no'],\n",
    "            [1, 0, 0, 0, 'no'],\n",
    "            [1, 0, 0, 1, 'no'],\n",
    "            [1, 1, 1, 1, 'yes'],\n",
    "            [1, 0, 1, 2, 'yes'],\n",
    "            [1, 0, 1, 2, 'yes'],\n",
    "            [2, 0, 1, 2, 'yes'],\n",
    "            [2, 0, 1, 1, 'yes'],\n",
    "            [2, 1, 0, 1, 'yes'],\n",
    "            [2, 1, 0, 2, 'yes'],\n",
    "            [2, 0, 0, 0, 'no']]\n",
    "    #分类属性\n",
    "    labels=['年龄','有工作','有自己的房子','信贷情况']\n",
    "    #返回数据集和分类属性\n",
    "    return dataSet,labels\n",
    "dataSet,labels = creatDataSet()"
   ]
  },
  {
   "cell_type": "code",
   "execution_count": 2,
   "metadata": {},
   "outputs": [
    {
     "data": {
      "text/plain": [
       "0.9709505944546686"
      ]
     },
     "execution_count": 2,
     "metadata": {},
     "output_type": "execute_result"
    }
   ],
   "source": [
    "\"\"\"\n",
    "函数说明:计算给定数据集的经验上熵（香农熵）\n",
    "Parameters:\n",
    "    dataSet:%数据集\n",
    "Returns:\n",
    "    shannonEnt:经验熵\n",
    "Modify:\n",
    "    2020-10-14\n",
    "\"\"\"\n",
    "\n",
    "def calcShannonEnt(dataSet):\n",
    "    feture_num = len(dataSet[0])-1\n",
    "    shannonEnt = 0\n",
    "    dic = {}\n",
    "    for data in dataSet:\n",
    "        if data[-1] not in dic:\n",
    "            dic[data[-1]] = 0\n",
    "        dic[data[-1]] = dic[data[-1]]+1\n",
    "    \n",
    "    for key in dic:\n",
    "        p = dic[key]/len(dataSet)\n",
    "        shannonEnt -= p*log(p,2)\n",
    "    return shannonEnt\n",
    "\n",
    "calcShannonEnt(dataSet)"
   ]
  },
  {
   "cell_type": "code",
   "execution_count": 3,
   "metadata": {},
   "outputs": [
    {
     "data": {
      "text/plain": [
       "2"
      ]
     },
     "execution_count": 3,
     "metadata": {},
     "output_type": "execute_result"
    }
   ],
   "source": [
    "\"\"\"\n",
    "函数说明:计算数据集中信息增益最大的特征的索引\n",
    "Parameters:\n",
    "    dataSet:数据集\n",
    "Returns:\n",
    "    best_feture:信息增益最大的特征值的索引\n",
    "Modify:\n",
    "    2020-10-14\n",
    "\"\"\"\n",
    "\n",
    "def getBestFeatureIndex(dataSet):\n",
    "    feature_nums = len(dataSet[0])-1\n",
    "    \n",
    "    dataSet_shannonEnt = calcShannonEnt(dataSet)\n",
    "    best_feature_index = -1\n",
    "    best_feature_shannonEnt = 0.\n",
    "    \n",
    "    for i in range(len(dataSet[0])-1):\n",
    "        del_feature_dataset = (np.delete(np.array(dataSet),i, axis=1)).tolist()\n",
    "        dic = {}\n",
    "        shannonEnt = 0;\n",
    "        for j in range(len(dataSet)):\n",
    "            if(dataSet[j][i] not in dic):\n",
    "                dic[dataSet[j][i]] = []\n",
    "            dic[dataSet[j][i]].append(del_feature_dataset[j])\n",
    "        for k in dic:\n",
    "            p = len(dic[k])/len(dataSet)\n",
    "            shannonEnt += p*calcShannonEnt(dic[k])\n",
    "        if(dataSet_shannonEnt-shannonEnt > best_feature_shannonEnt):\n",
    "            best_feature_index = i\n",
    "            best_feature_shannonEnt = dataSet_shannonEnt-shannonEnt\n",
    "    return best_feature_index\n",
    "    \n",
    "getBestFeatureIndex(dataSet)    "
   ]
  },
  {
   "cell_type": "code",
   "execution_count": 4,
   "metadata": {},
   "outputs": [],
   "source": [
    "\"\"\"\n",
    "函数说明:根据第i个特征将数据集进行划分\n",
    "Parameter:\n",
    "    dataSet:数据集\n",
    "    index:第index个特征\n",
    "Returns:\n",
    "    res:{\"特征值1\":data1,\"特征值2\":data2...}\n",
    "Modify:\n",
    "    2020-10-14\n",
    "\"\"\"\n",
    "\n",
    "def splitDatasetByFeature(dataSet,index):\n",
    "    res = {}\n",
    "    for data in dataSet:\n",
    "        if(data[index] not in res):\n",
    "            res[data[index]] = []\n",
    "        res[data[index]].append(data)\n",
    "   \n",
    "    for k in res:\n",
    "        res[k] = (np.delete(np.array(res[k]),index, axis=1)).tolist()\n",
    "    return res"
   ]
  },
  {
   "cell_type": "code",
   "execution_count": 5,
   "metadata": {},
   "outputs": [],
   "source": [
    "\"\"\"\n",
    "函数说明:返回dataSet中最大的类别数\n",
    "Parameter:\n",
    "    dataSet:训练集\n",
    "Returns:\n",
    "    res:(\"类别\":个数)<class 'tuple'>\n",
    "Modify:\n",
    "    2020-10-14\n",
    "\"\"\"\n",
    "\n",
    "def getMaxClassNum(dataSet):\n",
    "    res = {}\n",
    "    for data in dataSet:\n",
    "        if(data[-1] not in res):\n",
    "            res[data[-1]] = 0\n",
    "        res[data[-1]] = res[data[-1]] + 1\n",
    "    return sorted(res.items(),key = lambda x:x[1],reverse=True)[0]"
   ]
  },
  {
   "cell_type": "code",
   "execution_count": 6,
   "metadata": {},
   "outputs": [
    {
     "name": "stdout",
     "output_type": "stream",
     "text": [
      "2\n",
      "['年龄', '有工作', '有自己的房子', '信贷情况']\n",
      "1\n",
      "['年龄', '有工作', '信贷情况']\n"
     ]
    },
    {
     "data": {
      "text/plain": [
       "{'有自己的房子': {0: {'有工作': {'0': 'no', '1': 'yes'}}, 1: 'yes'}}"
      ]
     },
     "execution_count": 6,
     "metadata": {},
     "output_type": "execute_result"
    }
   ],
   "source": [
    "\"\"\"\n",
    "函数说明:统计dataSet中个数最多的类别\n",
    "Parameters:\n",
    "    dataSet: 训练集\n",
    "    lables:还剩下的特征\n",
    "Returns:\n",
    "    mytree:决策树\n",
    "Modify:\n",
    "    2020-10-14\n",
    "\"\"\"\n",
    "\n",
    "def createDecisionTree(dataSet,lables):\n",
    "    if(getMaxClassNum(dataSet)[1] == len(dataSet) or len(labels) == 0):\n",
    "        return getMaxClassNum(dataSet)[0]\n",
    "    \n",
    "    best_feature_index = getBestFeatureIndex(dataSet)\n",
    "    print(best_feature_index)\n",
    "    print(labels)\n",
    "    mytree = {}\n",
    "    best_feature = labels[best_feature_index]\n",
    "    del(labels[best_feature_index])\n",
    "    \n",
    "    splitdata = splitDatasetByFeature(dataSet,best_feature_index)\n",
    "    \n",
    "    for data in splitdata:\n",
    "        mytree[data] = createDecisionTree(splitdata[data],labels)\n",
    "    mytree = {best_feature:mytree}\n",
    "    return mytree\n",
    "\n",
    "createDecisionTree(dataSet,labels)"
   ]
  },
  {
   "cell_type": "code",
   "execution_count": null,
   "metadata": {},
   "outputs": [],
   "source": []
  }
 ],
 "metadata": {
  "kernelspec": {
   "display_name": "Python 3",
   "language": "python",
   "name": "python3"
  },
  "language_info": {
   "codemirror_mode": {
    "name": "ipython",
    "version": 3
   },
   "file_extension": ".py",
   "mimetype": "text/x-python",
   "name": "python",
   "nbconvert_exporter": "python",
   "pygments_lexer": "ipython3",
   "version": "3.8.2"
  }
 },
 "nbformat": 4,
 "nbformat_minor": 4
}
